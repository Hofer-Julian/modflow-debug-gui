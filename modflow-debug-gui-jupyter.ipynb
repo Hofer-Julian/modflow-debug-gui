{
 "cells": [
  {
   "cell_type": "markdown",
   "metadata": {},
   "source": [
    "# Modflow Debug GUI"
   ]
  },
  {
   "cell_type": "markdown",
   "metadata": {},
   "source": [
    "Load formatting extension"
   ]
  },
  {
   "cell_type": "code",
   "execution_count": 11,
   "metadata": {},
   "outputs": [
    {
     "name": "stdout",
     "output_type": "stream",
     "text": "The lab_black extension is already loaded. To reload it, use:\n  %reload_ext lab_black\n"
    }
   ],
   "source": [
    "%load_ext lab_black"
   ]
  },
  {
   "cell_type": "markdown",
   "metadata": {},
   "source": [
    "Set matplotlib backend"
   ]
  },
  {
   "cell_type": "code",
   "execution_count": 12,
   "metadata": {},
   "outputs": [],
   "source": [
    "%matplotlib inline"
   ]
  },
  {
   "cell_type": "code",
   "execution_count": 13,
   "metadata": {},
   "outputs": [
    {
     "name": "stdout",
     "output_type": "stream",
     "text": "3.7.4 (default, Aug  9 2019, 18:34:13) [MSC v.1915 64 bit (AMD64)]\nnumpy version: 1.16.5\nmatplotlib version: 3.1.1\nflopy version: 3.2.12\n"
    }
   ],
   "source": [
    "import os\n",
    "import sys\n",
    "\n",
    "from pathlib import Path\n",
    "import numpy as np\n",
    "import matplotlib as mpl\n",
    "import matplotlib.pyplot as plt\n",
    "\n",
    "import flopy\n",
    "import flopy.utils.binaryfile as bf\n",
    "\n",
    "print(sys.version)\n",
    "print(\"numpy version: {}\".format(np.__version__))\n",
    "print(\"matplotlib version: {}\".format(mpl.__version__))\n",
    "print(\"flopy version: {}\".format(flopy.__version__))"
   ]
  },
  {
   "cell_type": "code",
   "execution_count": 14,
   "metadata": {},
   "outputs": [
    {
     "name": "stdout",
     "output_type": "stream",
     "text": "loading simulation...\n  loading simulation name file...\n  loading tdis package...\n  loading model gwf6...\n    loading package dis...\n    loading package ic...\n    loading package npf...\n    loading package chd...\n    loading package rch...\n    loading package riv...\n    loading package oc...\n  loading model gwf6...\n    loading package dis...\n    loading package ic...\n    loading package npf...\n    loading package rch...\n    loading package riv...\nINFORMATION: maxbound in ('gwf6', 'riv', 'dimensions') changed to 15 based on size of stress_period_data\n    loading package oc...\n  loading model gwf6...\n    loading package dis...\n    loading package ic...\n    loading package npf...\n    loading package rch...\n    loading package riv...\nINFORMATION: maxbound in ('gwf6', 'riv', 'dimensions') changed to 15 based on size of stress_period_data\n    loading package oc...\n  loading exchange package gwf-gwf_exg_0...\n  loading exchange package gwf-gwf_exg_1...\n  loading exchange package gwf-gwf_exg_2...\n  loading ims package mv...\n"
    }
   ],
   "source": [
    "sim_name = \"mfsim.nam\"\n",
    "modflow_path = Path(\"c:/checkouts/modflow6/bin/mf6d.exe\")\n",
    "sim_path = Path(\"c:/checkouts/modflow-debug-gui/data/test120_mv_dis-lgr_3models\")\n",
    "\n",
    "sim = flopy.mf6.MFSimulation.load(\n",
    "    sim_name=sim_name, version=\"mf6\", exe_name=str(modflow_path), sim_ws=str(sim_path),\n",
    ")"
   ]
  },
  {
   "cell_type": "markdown",
   "metadata": {},
   "source": [
    "Manual way to run modflow executable\n",
    "```python\n",
    "import subprocess\n",
    "import os\n",
    "os.chdir(example_path)\n",
    "completed_process = subprocess.run([str(modflow_path)], stdout=subprocess.PIPE)\n",
    "if completed_process.returncode:\n",
    "    print(completed_process.stdout.decode(\"utf-8\"))\n",
    "```"
   ]
  },
  {
   "cell_type": "markdown",
   "metadata": {},
   "source": [
    "Multiple models can be attached to a mf6 simulation. \n",
    "\n",
    "Model names can be obtained by using the .model_names attribute of the MFSimulation object"
   ]
  },
  {
   "cell_type": "code",
   "execution_count": 15,
   "metadata": {},
   "outputs": [
    {
     "data": {
      "text/plain": "['mv', 'child1', 'child2']"
     },
     "execution_count": 15,
     "metadata": {},
     "output_type": "execute_result"
    }
   ],
   "source": [
    "list(sim.model_names)"
   ]
  },
  {
   "cell_type": "markdown",
   "metadata": {},
   "source": [
    "Run modflow with flopy"
   ]
  },
  {
   "cell_type": "code",
   "execution_count": null,
   "metadata": {},
   "outputs": [],
   "source": []
  },
  {
   "cell_type": "code",
   "execution_count": 16,
   "metadata": {},
   "outputs": [
    {
     "name": "stdout",
     "output_type": "stream",
     "text": "FloPy is using the following  executable to run the model: c:\\checkouts\\modflow6\\bin\\mf6d.exe\n                                   MODFLOW 6\n                U.S. GEOLOGICAL SURVEY MODULAR HYDROLOGIC MODEL\n                            VERSION 6.0.5 03/31/2019\n                               ***DEVELOP MODE***\n\n   MODFLOW 6 compiled Nov 06 2019 14:55:12 with IFORT compiler (ver. 19.0.4)\n\nThis software is preliminary or provisional and is subject to \nrevision. It is being provided to meet the need for timely best \nscience. The software has not received final approval by the U.S. \nGeological Survey (USGS). No warranty, expressed or implied, is made \nby the USGS or the U.S. Government as to the functionality of the \nsoftware and related material nor shall the fact of release \nconstitute any such warranty. The software is provided on the \ncondition that neither the USGS nor the U.S. Government shall be held \nliable for any damages resulting from the authorized or unauthorized \nuse of the software.\n\n Run start date and time (yyyy/mm/dd hh:mm:ss): 2019/11/21 10:38:13\n\n Writing simulation list file: mfsim.lst\n Using Simulation name file: mfsim.nam\n Solving:  Stress period:     1    Time step:     1\n Run end date and time (yyyy/mm/dd hh:mm:ss): 2019/11/21 10:38:14\n Elapsed run time:  1.229 Seconds\n\n Normal termination of simulation.\n"
    },
    {
     "data": {
      "text/plain": "(True, [])"
     },
     "execution_count": 16,
     "metadata": {},
     "output_type": "execute_result"
    }
   ],
   "source": [
    "sim.run_simulation()"
   ]
  },
  {
   "cell_type": "markdown",
   "metadata": {},
   "source": [
    "## Plotting simulated model results\n",
    "\n",
    "First we create an instance of the HeadFile class with the simulated head file (*.hds) and extract the simulation times available in the binary head file using the `.get_times()` method. Here we plot last simulated heads in the binary heads file (`totim=times[-1]`). We are also masking cells having the HDRY (1e+30) value and adding a colorbar."
   ]
  },
  {
   "cell_type": "code",
   "execution_count": 17,
   "metadata": {},
   "outputs": [
    {
     "ename": "ValueError",
     "evalue": "Precision not allowed in integer format specifier",
     "output_type": "error",
     "traceback": [
      "\u001b[1;31m---------------------------------------------------------------------------\u001b[0m",
      "\u001b[1;31mValueError\u001b[0m                                Traceback (most recent call last)",
      "\u001b[1;32m<ipython-input-17-7b5f9217eb98>\u001b[0m in \u001b[0;36m<module>\u001b[1;34m\u001b[0m\n\u001b[0;32m      1\u001b[0m \u001b[1;32mfrom\u001b[0m \u001b[0mutils\u001b[0m \u001b[1;32mimport\u001b[0m \u001b[0mplot_model\u001b[0m\u001b[1;33m\u001b[0m\u001b[1;33m\u001b[0m\u001b[0m\n\u001b[1;32m----> 2\u001b[1;33m \u001b[0mplot_model\u001b[0m\u001b[1;33m(\u001b[0m\u001b[0msim\u001b[0m\u001b[1;33m,\u001b[0m \u001b[0msim_path\u001b[0m\u001b[1;33m,\u001b[0m \u001b[0mlayer\u001b[0m\u001b[1;33m=\u001b[0m\u001b[1;36m0\u001b[0m\u001b[1;33m)\u001b[0m\u001b[1;33m\u001b[0m\u001b[1;33m\u001b[0m\u001b[0m\n\u001b[0m",
      "\u001b[1;32mc:\\checkouts\\modflow-debug-gui\\utils.py\u001b[0m in \u001b[0;36mplot_model\u001b[1;34m(sim, sim_path, layer)\u001b[0m\n\u001b[0;32m     51\u001b[0m                     \u001b[0mj\u001b[0m\u001b[1;33m,\u001b[0m\u001b[1;33m\u001b[0m\u001b[1;33m\u001b[0m\u001b[0m\n\u001b[0;32m     52\u001b[0m                     \u001b[0mk\u001b[0m\u001b[1;33m,\u001b[0m\u001b[1;33m\u001b[0m\u001b[1;33m\u001b[0m\u001b[0m\n\u001b[1;32m---> 53\u001b[1;33m                     \u001b[1;34mf\"{plot:02.0}\"\u001b[0m\u001b[1;33m,\u001b[0m\u001b[1;33m\u001b[0m\u001b[1;33m\u001b[0m\u001b[0m\n\u001b[0m\u001b[0;32m     54\u001b[0m                     \u001b[0mha\u001b[0m\u001b[1;33m=\u001b[0m\u001b[1;34m\"center\"\u001b[0m\u001b[1;33m,\u001b[0m\u001b[1;33m\u001b[0m\u001b[1;33m\u001b[0m\u001b[0m\n\u001b[0;32m     55\u001b[0m                     \u001b[0mva\u001b[0m\u001b[1;33m=\u001b[0m\u001b[1;34m\"center\"\u001b[0m\u001b[1;33m,\u001b[0m\u001b[1;33m\u001b[0m\u001b[1;33m\u001b[0m\u001b[0m\n",
      "\u001b[1;31mValueError\u001b[0m: Precision not allowed in integer format specifier"
     ]
    }
   ],
   "source": [
    "from utils import plot_model\n",
    "plot_model(sim, sim_path, layer=0)"
   ]
  },
  {
   "cell_type": "markdown",
   "metadata": {},
   "source": [
    "New way to extract head-data with Flopy"
   ]
  },
  {
   "cell_type": "code",
   "execution_count": 0,
   "metadata": {},
   "outputs": [],
   "source": [
    "# [-1] in order to get date from the (time) end of the model run\n",
    "head_mv = sim.simulation_data.mfdata[\"mv\", \"HDS\", \"HEAD\"][-1]\n",
    "head_child1 = sim.simulation_data.mfdata[\"child1\", \"HDS\", \"HEAD\"][-1]\n",
    "head_child2 = sim.simulation_data.mfdata[\"child2\", \"HDS\", \"HEAD\"][-1]"
   ]
  },
  {
   "cell_type": "code",
   "execution_count": 0,
   "metadata": {},
   "outputs": [],
   "source": [
    "plt.figure(figsize=(10, 5))\n",
    "levels = np.arange(1, 10, 1)\n",
    "\n",
    "\n",
    "xorigin = 0\n",
    "yorigin = 0\n",
    "nlay = 5\n",
    "nrow = 40\n",
    "ncol = 25\n",
    "delr = 500\n",
    "delc = 500\n",
    "Lx = delr * ncol\n",
    "Ly = delc * nrow\n",
    "extent = (delr / 2.0, Lx - delr / 2.0, Ly - delc / 2.0, delc / 2.0)\n",
    "c = plt.contour(head_mv[0, :, :], levels=levels, extent=extent)\n",
    "plt.clabel(c, fmt=\"%1.1f\")\n",
    "\n",
    "xorigin = 2500\n",
    "yorigin = 2500\n",
    "nlay = 5\n",
    "nrow = 30\n",
    "ncol = 42\n",
    "delr = 166.66666667\n",
    "delc = 166.66666667\n",
    "Lx = delr * ncol\n",
    "Ly = delc * nrow\n",
    "extent = (\n",
    "    delr / 2.0 + xorigin,\n",
    "    Lx - delr / 2.0 + xorigin,\n",
    "    Ly - delc / 2.0 + yorigin,\n",
    "    delc / 2.0 + yorigin,\n",
    ")\n",
    "c = plt.contour(head_child1[0, :, :], levels=levels, extent=extent)\n",
    "plt.clabel(c, fmt=\"%1.1f\")\n",
    "\n",
    "xorigin = 2500\n",
    "yorigin = 2500\n",
    "nlay = 5\n",
    "nrow = 30\n",
    "ncol = 42\n",
    "delr = 166.66666667\n",
    "delc = 166.66666667\n",
    "Lx = delr * ncol\n",
    "Ly = delc * nrow\n",
    "extent = (\n",
    "    delr / 2.0 + xorigin,\n",
    "    Lx - delr / 2.0 + xorigin,\n",
    "    Ly - delc / 2.0 + yorigin,\n",
    "    delc / 2.0 + yorigin,\n",
    ")\n",
    "c = plt.contour(head_child2[0, :, :], levels=levels, extent=extent)\n",
    "plt.clabel(c, fmt=\"%1.1f\")\n",
    "\n",
    "plt.tight_layout()\n",
    "plt.show()"
   ]
  },
  {
   "cell_type": "code",
   "execution_count": 0,
   "metadata": {},
   "outputs": [],
   "source": [
    "# plt.figure(figsize=(20, 5))\n",
    "\n",
    "# plt.subplot(1, 3, 1, aspect=\"equal\")\n",
    "hds = bf.HeadFile(sim_path / \"mv.hds\")\n",
    "head = hds.get_data(totim=1.0)\n",
    "levels = np.arange(1, 10, 1)\n",
    "plt.imshow(head[0, :, :])\n",
    "\n",
    "for i in range(len(head[0, 0, :])):\n",
    "    for j in range(len(head[0, :, 0])):\n",
    "        text = plt.text(\n",
    "            i,\n",
    "            j,\n",
    "            f\"{head[0, j, i]:02.0}\",\n",
    "            ha=\"center\",\n",
    "            va=\"center\",\n",
    "            color=\"w\",\n",
    "            fontsize=5,\n",
    "        )\n",
    "\n",
    "\n",
    "# plt.subplot(1, 3, 2)\n",
    "# hds = bf.HeadFile(\"child1.hds\")\n",
    "# head = hds.get_data(totim=1.0)\n",
    "# levels = np.arange(1, 10, 1)\n",
    "# plt.imshow(head[0, :, :])\n",
    "\n",
    "# plt.subplot(1, 3, 3)\n",
    "# hds = bf.HeadFile(\"child2.hds\")\n",
    "# head = hds.get_data(totim=1.0)\n",
    "# levels = np.arange(1, 10, 1)\n",
    "# plt.imshow(head[0, :, :])\n",
    "# plt.colorbar()\n",
    "\n",
    "plt.tight_layout()\n",
    "plt.show()"
   ]
  },
  {
   "cell_type": "code",
   "execution_count": null,
   "metadata": {},
   "outputs": [],
   "source": []
  }
 ],
 "metadata": {
  "kernelspec": {
   "display_name": "Python 3",
   "language": "python",
   "name": "python3"
  },
  "language_info": {
   "codemirror_mode": {
    "name": "ipython",
    "version": 3
   },
   "file_extension": ".py",
   "mimetype": "text/x-python",
   "name": "python",
   "nbconvert_exporter": "python",
   "pygments_lexer": "ipython3",
   "version": "3.7.4"
  }
 },
 "nbformat": 4,
 "nbformat_minor": 4
}