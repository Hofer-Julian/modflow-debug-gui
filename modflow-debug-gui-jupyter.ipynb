{
 "cells": [
  {
   "cell_type": "markdown",
   "metadata": {},
   "source": [
    "# Modflow Debug GUI"
   ]
  },
  {
   "cell_type": "markdown",
   "metadata": {},
   "source": [
    "Load formatting extension"
   ]
  },
  {
   "cell_type": "code",
   "execution_count": 1,
   "metadata": {},
   "outputs": [],
   "source": [
    "%load_ext lab_black"
   ]
  },
  {
   "cell_type": "markdown",
   "metadata": {},
   "source": [
    "Set matplotlib backend"
   ]
  },
  {
   "cell_type": "code",
   "execution_count": 2,
   "metadata": {},
   "outputs": [],
   "source": [
    "%matplotlib inline"
   ]
  },
  {
   "cell_type": "code",
   "execution_count": 3,
   "metadata": {},
   "outputs": [
    {
     "name": "stdout",
     "output_type": "stream",
     "text": [
      "flopy is installed in C:\\Users\\hofer_jn\\AppData\\Local\\Continuum\\anaconda3\\lib\\site-packages\\flopy\n",
      "3.7.4 (default, Aug  9 2019, 18:34:13) [MSC v.1915 64 bit (AMD64)]\n",
      "numpy version: 1.16.5\n",
      "matplotlib version: 3.1.1\n",
      "flopy version: 3.2.12\n"
     ]
    }
   ],
   "source": [
    "import os\n",
    "import sys\n",
    "\n",
    "from pathlib import Path\n",
    "import subprocess\n",
    "\n",
    "import numpy as np\n",
    "import matplotlib as mpl\n",
    "import matplotlib.pyplot as plt\n",
    "import flopy\n",
    "import flopy.utils.binaryfile as bf\n",
    "\n",
    "print(sys.version)\n",
    "print(\"numpy version: {}\".format(np.__version__))\n",
    "print(\"matplotlib version: {}\".format(mpl.__version__))\n",
    "print(\"flopy version: {}\".format(flopy.__version__))"
   ]
  },
  {
   "cell_type": "code",
   "execution_count": 4,
   "metadata": {},
   "outputs": [
    {
     "name": "stdout",
     "output_type": "stream",
     "text": [
      "loading simulation...\n",
      "  loading simulation name file...\n",
      "  loading tdis package...\n",
      "  loading model gwf6...\n",
      "    loading package dis...\n",
      "    loading package ic...\n",
      "    loading package npf...\n",
      "    loading package chd...\n",
      "    loading package rch...\n",
      "    loading package riv...\n",
      "    loading package oc...\n",
      "  loading model gwf6...\n",
      "    loading package dis...\n",
      "    loading package ic...\n",
      "    loading package npf...\n",
      "    loading package rch...\n",
      "    loading package riv...\n",
      "INFORMATION: maxbound in ('gwf6', 'riv', 'dimensions') changed to 15 based on size of stress_period_data\n",
      "    loading package oc...\n",
      "  loading model gwf6...\n",
      "    loading package dis...\n",
      "    loading package ic...\n",
      "    loading package npf...\n",
      "    loading package rch...\n",
      "    loading package riv...\n",
      "INFORMATION: maxbound in ('gwf6', 'riv', 'dimensions') changed to 15 based on size of stress_period_data\n",
      "    loading package oc...\n",
      "  loading exchange package gwf-gwf_exg_0...\n",
      "  loading exchange package gwf-gwf_exg_1...\n",
      "  loading exchange package gwf-gwf_exg_2...\n",
      "  loading ims package mv...\n"
     ]
    }
   ],
   "source": [
    "sim_name = \"mfsim.nam\"\n",
    "modflow_path = Path(\"c:/checkouts/modflow6/bin/mf6d.exe\")\n",
    "example_path = Path(\"c:/checkouts/modflow-debug-gui/data/test120_mv_dis-lgr_3models\")\n",
    "\n",
    "sim = flopy.mf6.MFSimulation.load(\n",
    "    sim_name=sim_name,\n",
    "    version=\"mf6\",\n",
    "    exe_name=str(modflow_path),\n",
    "    sim_ws=str(example_path),\n",
    ")"
   ]
  },
  {
   "cell_type": "markdown",
   "metadata": {},
   "source": [
    "Manual way to run modflow executable\n",
    "```python\n",
    "os.chdir(example_path)\n",
    "completed_process = subprocess.run([str(modflow_path)], stdout=subprocess.PIPE)\n",
    "if completed_process.returncode:\n",
    "    print(completed_process.stdout.decode(\"utf-8\"))\n",
    "```"
   ]
  },
  {
   "cell_type": "markdown",
   "metadata": {},
   "source": [
    "Run modflow with flopy"
   ]
  },
  {
   "cell_type": "code",
   "execution_count": 5,
   "metadata": {},
   "outputs": [
    {
     "name": "stdout",
     "output_type": "stream",
     "text": [
      "FloPy is using the following  executable to run the model: c:\\checkouts\\modflow6\\bin\\mf6d.exe\n",
      "                                   MODFLOW 6\n",
      "                U.S. GEOLOGICAL SURVEY MODULAR HYDROLOGIC MODEL\n",
      "                            VERSION 6.0.5 03/31/2019\n",
      "                               ***DEVELOP MODE***\n",
      "\n",
      "   MODFLOW 6 compiled Nov 06 2019 14:55:12 with IFORT compiler (ver. 19.0.4)\n",
      "\n",
      "This software is preliminary or provisional and is subject to \n",
      "revision. It is being provided to meet the need for timely best \n",
      "science. The software has not received final approval by the U.S. \n",
      "Geological Survey (USGS). No warranty, expressed or implied, is made \n",
      "by the USGS or the U.S. Government as to the functionality of the \n",
      "software and related material nor shall the fact of release \n",
      "constitute any such warranty. The software is provided on the \n",
      "condition that neither the USGS nor the U.S. Government shall be held \n",
      "liable for any damages resulting from the authorized or unauthorized \n",
      "use of the software.\n",
      "\n",
      " Run start date and time (yyyy/mm/dd hh:mm:ss): 2019/11/19 10:16:05\n",
      "\n",
      " Writing simulation list file: mfsim.lst\n",
      " Using Simulation name file: mfsim.nam\n",
      " Solving:  Stress period:     1    Time step:     1\n",
      " Run end date and time (yyyy/mm/dd hh:mm:ss): 2019/11/19 10:16:06\n",
      " Elapsed run time:  1.400 Seconds\n",
      "\n",
      " Normal termination of simulation.\n"
     ]
    },
    {
     "data": {
      "text/plain": [
       "(True, [])"
      ]
     },
     "execution_count": 5,
     "metadata": {},
     "output_type": "execute_result"
    }
   ],
   "source": [
    "sim.run_simulation()"
   ]
  },
  {
   "cell_type": "markdown",
   "metadata": {},
   "source": [
    "Old way to extract head-data with Flopy\n",
    "```\n",
    "hds_mv = bf.HeadFile(\"mv.hds\")\n",
    "hds_child1 = bf.HeadFile(\"child1.hds\")\n",
    "hds_child2 = bf.HeadFile(\"child2.hds\")\n",
    "\n",
    "head_mv = hds_mv.get_data(totim=1.0)\n",
    "head_child1 = hds_child1.get_data(totim=1.0)\n",
    "head_child2 = hds_child2.get_data(totim=1.0)\n",
    "```"
   ]
  },
  {
   "cell_type": "markdown",
   "metadata": {},
   "source": [
    "New way to extract head-data with Flopy"
   ]
  },
  {
   "cell_type": "code",
   "execution_count": 11,
   "metadata": {},
   "outputs": [],
   "source": [
    "# [-1] in order to get date from the end of the model run\n",
    "head_mv = sim.simulation_data.mfdata[\"mv\", \"HDS\", \"HEAD\"][-1]\n",
    "head_child1 = sim.simulation_data.mfdata[\"child1\", \"HDS\", \"HEAD\"][-1]\n",
    "head_child2 = sim.simulation_data.mfdata[\"child2\", \"HDS\", \"HEAD\"][-1]"
   ]
  },
  {
   "cell_type": "code",
   "execution_count": 23,
   "metadata": {},
   "outputs": [
    {
     "data": {
      "image/png": "[encoded data removed]",
      "text/plain": [
       "<Figure size 720x360 with 1 Axes>"
      ]
     },
     "metadata": {
      "needs_background": "light"
     },
     "output_type": "display_data"
    }
   ],
   "source": [
    "plt.figure(figsize=(10, 5))\n",
    "levels = np.arange(1, 10, 1)\n",
    "\n",
    "\n",
    "xorigin = 0\n",
    "yorigin = 0\n",
    "nlay = 5\n",
    "nrow = 40\n",
    "ncol = 25\n",
    "delr = 500\n",
    "delc = 500\n",
    "Lx = delr * ncol\n",
    "Ly = delc * nrow\n",
    "extent = (delr / 2.0, Lx - delr / 2.0, Ly - delc / 2.0, delc / 2.0)\n",
    "c = plt.contour(head_mv[0, :, :], levels=levels, extent=extent)\n",
    "plt.clabel(c, fmt=\"%1.1f\")\n",
    "\n",
    "xorigin = 2500\n",
    "yorigin = 2500\n",
    "nlay = 5\n",
    "nrow = 30\n",
    "ncol = 42\n",
    "delr = 166.66666667\n",
    "delc = 166.66666667\n",
    "Lx = delr * ncol\n",
    "Ly = delc * nrow\n",
    "extent = (\n",
    "    delr / 2.0 + xorigin,\n",
    "    Lx - delr / 2.0 + xorigin,\n",
    "    Ly - delc / 2.0 + yorigin,\n",
    "    delc / 2.0 + yorigin,\n",
    ")\n",
    "c = plt.contour(head_child1[0, :, :], levels=levels, extent=extent)\n",
    "plt.clabel(c, fmt=\"%1.1f\")\n",
    "\n",
    "xorigin = 2500\n",
    "yorigin = 2500\n",
    "nlay = 5\n",
    "nrow = 30\n",
    "ncol = 42\n",
    "delr = 166.66666667\n",
    "delc = 166.66666667\n",
    "Lx = delr * ncol\n",
    "Ly = delc * nrow\n",
    "extent = (\n",
    "    delr / 2.0 + xorigin,\n",
    "    Lx - delr / 2.0 + xorigin,\n",
    "    Ly - delc / 2.0 + yorigin,\n",
    "    delc / 2.0 + yorigin,\n",
    ")\n",
    "c = plt.contour(head_child2[0, :, :], levels=levels, extent=extent)\n",
    "plt.clabel(c, fmt=\"%1.1f\")\n",
    "\n",
    "plt.tight_layout()\n",
    "plt.show()"
   ]
  },
  {
   "cell_type": "code",
   "execution_count": null,
   "metadata": {},
   "outputs": [],
   "source": []
  },
  {
   "cell_type": "code",
   "execution_count": 8,
   "metadata": {},
   "outputs": [
    {
     "ename": "FileNotFoundError",
     "evalue": "[Errno 2] No such file or directory: 'mv.hds'",
     "output_type": "error",
     "traceback": [
      "\u001b[1;31m---------------------------------------------------------------------------\u001b[0m",
      "\u001b[1;31mFileNotFoundError\u001b[0m                         Traceback (most recent call last)",
      "\u001b[1;32m<ipython-input-8-4b6f44da25dc>\u001b[0m in \u001b[0;36m<module>\u001b[1;34m\u001b[0m\n\u001b[0;32m      2\u001b[0m \u001b[1;33m\u001b[0m\u001b[0m\n\u001b[0;32m      3\u001b[0m \u001b[1;31m# plt.subplot(1, 3, 1, aspect=\"equal\")\u001b[0m\u001b[1;33m\u001b[0m\u001b[1;33m\u001b[0m\u001b[1;33m\u001b[0m\u001b[0m\n\u001b[1;32m----> 4\u001b[1;33m \u001b[0mhds\u001b[0m \u001b[1;33m=\u001b[0m \u001b[0mbf\u001b[0m\u001b[1;33m.\u001b[0m\u001b[0mHeadFile\u001b[0m\u001b[1;33m(\u001b[0m\u001b[1;34m\"mv.hds\"\u001b[0m\u001b[1;33m)\u001b[0m\u001b[1;33m\u001b[0m\u001b[1;33m\u001b[0m\u001b[0m\n\u001b[0m\u001b[0;32m      5\u001b[0m \u001b[0mhead\u001b[0m \u001b[1;33m=\u001b[0m \u001b[0mhds\u001b[0m\u001b[1;33m.\u001b[0m\u001b[0mget_data\u001b[0m\u001b[1;33m(\u001b[0m\u001b[0mtotim\u001b[0m\u001b[1;33m=\u001b[0m\u001b[1;36m1.0\u001b[0m\u001b[1;33m)\u001b[0m\u001b[1;33m\u001b[0m\u001b[1;33m\u001b[0m\u001b[0m\n\u001b[0;32m      6\u001b[0m \u001b[0mlevels\u001b[0m \u001b[1;33m=\u001b[0m \u001b[0mnp\u001b[0m\u001b[1;33m.\u001b[0m\u001b[0marange\u001b[0m\u001b[1;33m(\u001b[0m\u001b[1;36m1\u001b[0m\u001b[1;33m,\u001b[0m \u001b[1;36m10\u001b[0m\u001b[1;33m,\u001b[0m \u001b[1;36m1\u001b[0m\u001b[1;33m)\u001b[0m\u001b[1;33m\u001b[0m\u001b[1;33m\u001b[0m\u001b[0m\n",
      "\u001b[1;32m~\\AppData\\Local\\Continuum\\anaconda3\\lib\\site-packages\\flopy\\utils\\binaryfile.py\u001b[0m in \u001b[0;36m__init__\u001b[1;34m(self, filename, text, precision, verbose, **kwargs)\u001b[0m\n\u001b[0;32m    450\u001b[0m         \u001b[0mself\u001b[0m\u001b[1;33m.\u001b[0m\u001b[0mtext\u001b[0m \u001b[1;33m=\u001b[0m \u001b[0mtext\u001b[0m\u001b[1;33m.\u001b[0m\u001b[0mencode\u001b[0m\u001b[1;33m(\u001b[0m\u001b[1;33m)\u001b[0m\u001b[1;33m\u001b[0m\u001b[1;33m\u001b[0m\u001b[0m\n\u001b[0;32m    451\u001b[0m         \u001b[1;32mif\u001b[0m \u001b[0mprecision\u001b[0m \u001b[1;33m==\u001b[0m \u001b[1;34m'auto'\u001b[0m\u001b[1;33m:\u001b[0m\u001b[1;33m\u001b[0m\u001b[1;33m\u001b[0m\u001b[0m\n\u001b[1;32m--> 452\u001b[1;33m             \u001b[0mprecision\u001b[0m \u001b[1;33m=\u001b[0m \u001b[0mget_headfile_precision\u001b[0m\u001b[1;33m(\u001b[0m\u001b[0mfilename\u001b[0m\u001b[1;33m)\u001b[0m\u001b[1;33m\u001b[0m\u001b[1;33m\u001b[0m\u001b[0m\n\u001b[0m\u001b[0;32m    453\u001b[0m             \u001b[1;32mif\u001b[0m \u001b[0mprecision\u001b[0m \u001b[1;33m==\u001b[0m \u001b[1;34m'unknown'\u001b[0m\u001b[1;33m:\u001b[0m\u001b[1;33m\u001b[0m\u001b[1;33m\u001b[0m\u001b[0m\n\u001b[0;32m    454\u001b[0m                 s = 'Error. Precision could not be determined for {}'.format(\n",
      "\u001b[1;32m~\\AppData\\Local\\Continuum\\anaconda3\\lib\\site-packages\\flopy\\utils\\binaryfile.py\u001b[0m in \u001b[0;36mget_headfile_precision\u001b[1;34m(filename)\u001b[0m\n\u001b[0;32m    203\u001b[0m \u001b[1;33m\u001b[0m\u001b[0m\n\u001b[0;32m    204\u001b[0m     \u001b[1;31m# Open file, and check filesize to ensure this is not an empty file\u001b[0m\u001b[1;33m\u001b[0m\u001b[1;33m\u001b[0m\u001b[1;33m\u001b[0m\u001b[0m\n\u001b[1;32m--> 205\u001b[1;33m     \u001b[0mf\u001b[0m \u001b[1;33m=\u001b[0m \u001b[0mopen\u001b[0m\u001b[1;33m(\u001b[0m\u001b[0mfilename\u001b[0m\u001b[1;33m,\u001b[0m \u001b[1;34m'rb'\u001b[0m\u001b[1;33m)\u001b[0m\u001b[1;33m\u001b[0m\u001b[1;33m\u001b[0m\u001b[0m\n\u001b[0m\u001b[0;32m    206\u001b[0m     \u001b[0mf\u001b[0m\u001b[1;33m.\u001b[0m\u001b[0mseek\u001b[0m\u001b[1;33m(\u001b[0m\u001b[1;36m0\u001b[0m\u001b[1;33m,\u001b[0m \u001b[1;36m2\u001b[0m\u001b[1;33m)\u001b[0m\u001b[1;33m\u001b[0m\u001b[1;33m\u001b[0m\u001b[0m\n\u001b[0;32m    207\u001b[0m     \u001b[0mtotalbytes\u001b[0m \u001b[1;33m=\u001b[0m \u001b[0mf\u001b[0m\u001b[1;33m.\u001b[0m\u001b[0mtell\u001b[0m\u001b[1;33m(\u001b[0m\u001b[1;33m)\u001b[0m\u001b[1;33m\u001b[0m\u001b[1;33m\u001b[0m\u001b[0m\n",
      "\u001b[1;31mFileNotFoundError\u001b[0m: [Errno 2] No such file or directory: 'mv.hds'"
     ]
    }
   ],
   "source": [
    "# plt.figure(figsize=(20, 5))\n",
    "\n",
    "# plt.subplot(1, 3, 1, aspect=\"equal\")\n",
    "hds = bf.HeadFile(\"mv.hds\")\n",
    "head = hds.get_data(totim=1.0)\n",
    "levels = np.arange(1, 10, 1)\n",
    "plt.imshow(head[0, :, :])\n",
    "\n",
    "for i in range(len(head[0, 0, :])):\n",
    "    for j in range(len(head[0, :, 0])):\n",
    "        text = plt.text(\n",
    "            i,\n",
    "            j,\n",
    "            f\"{head[0, j, i]:02.0}\",\n",
    "            ha=\"center\",\n",
    "            va=\"center\",\n",
    "            color=\"w\",\n",
    "            fontsize=5,\n",
    "        )\n",
    "\n",
    "\n",
    "# plt.subplot(1, 3, 2)\n",
    "# hds = bf.HeadFile(\"child1.hds\")\n",
    "# head = hds.get_data(totim=1.0)\n",
    "# levels = np.arange(1, 10, 1)\n",
    "# plt.imshow(head[0, :, :])\n",
    "\n",
    "# plt.subplot(1, 3, 3)\n",
    "# hds = bf.HeadFile(\"child2.hds\")\n",
    "# head = hds.get_data(totim=1.0)\n",
    "# levels = np.arange(1, 10, 1)\n",
    "# plt.imshow(head[0, :, :])\n",
    "# plt.colorbar()\n",
    "\n",
    "plt.tight_layout()\n",
    "plt.show()"
   ]
  },
  {
   "cell_type": "code",
   "execution_count": null,
   "metadata": {},
   "outputs": [],
   "source": [
    "hds = bf.HeadFile(\"mv.hds\")\n",
    "head = hds.get_data(totim=1.0)\n",
    "print(len(head[:, 0, 0]))\n",
    "print(len(head[0, :, 0]))\n",
    "print(len(head[0, 0, :]))"
   ]
  },
  {
   "cell_type": "code",
   "execution_count": null,
   "metadata": {},
   "outputs": [],
   "source": []
  }
 ],
 "metadata": {
  "kernelspec": {
   "display_name": "Python 3",
   "language": "python",
   "name": "python3"
  },
  "language_info": {
   "codemirror_mode": {
    "name": "ipython",
    "version": 3
   },
   "file_extension": ".py",
   "mimetype": "text/x-python",
   "name": "python",
   "nbconvert_exporter": "python",
   "pygments_lexer": "ipython3",
   "version": "3.7.4"
  }
 },
 "nbformat": 4,
 "nbformat_minor": 4
}
